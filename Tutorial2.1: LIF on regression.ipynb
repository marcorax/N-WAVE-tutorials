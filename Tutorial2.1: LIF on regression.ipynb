{
 "cells": [
  {
   "cell_type": "code",
   "execution_count": 2,
   "id": "354785a2",
   "metadata": {},
   "outputs": [],
   "source": [
    "# NeuronovaSim Tutorial\n",
    "# A Simple Introduction to Spiking Neural Networks with NeuronovaSim\n",
    "\n",
    "import os\n",
    "import numpy as np\n",
    "import torch\n",
    "import torch.nn as nn\n",
    "import matplotlib.pyplot as plt\n",
    "from torch.utils.data import Dataset, DataLoader\n",
    "\n",
    "# Import necessary components from your library\n",
    "from Neuronova_Sim.NeuronovaSim import NeuronovaSim\n",
    "\n",
    "# For reproducibility\n",
    "torch.manual_seed(42)\n",
    "np.random.seed(42)"
   ]
  },
  {
   "cell_type": "code",
   "execution_count": null,
   "id": "9dcd6e14",
   "metadata": {},
   "outputs": [
    {
     "name": "stdout",
     "output_type": "stream",
     "text": [
      "device is cpu\n",
      "******************************************************\n"
     ]
    },
    {
     "name": "stderr",
     "output_type": "stream",
     "text": [
      "100%|██████████| 100/100 [00:30<00:00,  3.32it/s]"
     ]
    },
    {
     "name": "stdout",
     "output_type": "stream",
     "text": [
      "Mean L1-loss: 2.16e-01\n",
      "Mean rel. err.: 4.47e+00\n"
     ]
    },
    {
     "name": "stderr",
     "output_type": "stream",
     "text": [
      "\n"
     ]
    },
    {
     "data": {
      "image/png": "[encoded data removed]",
      "text/plain": [
       "<Figure size 640x480 with 1 Axes>"
      ]
     },
     "metadata": {},
     "output_type": "display_data"
    }
   ],
   "source": [
    "class PolyRegressionDataset(Dataset):\n",
    "    \"\"\"Generates time-series inputs x_t = linspace(0,end) and targets y_t = a*x_t^2 + b*x_t + c\"\"\"\n",
    "\n",
    "    def __init__(self, timesteps, num_samples, a, b, c):\n",
    "        self.timesteps = timesteps\n",
    "        ends = torch.rand(num_samples, 1)\n",
    "        features = []\n",
    "        for end in ends:\n",
    "            seq = torch.linspace(0.0, float(end), steps=timesteps).view(timesteps, 1)\n",
    "            features.append(seq)\n",
    "        # shape (num_samples, time, 1)\n",
    "        self.inputs = torch.stack(features, dim=0)\n",
    "        # compute polynomial targets (same shape)\n",
    "        x = self.inputs\n",
    "        self.targets = a * x**2 + b * x + c\n",
    "\n",
    "    def __len__(self):\n",
    "        return len(self.inputs)\n",
    "\n",
    "    def __getitem__(self, idx):\n",
    "        # return (time, features)\n",
    "        x = self.inputs[idx]  # (T,1)\n",
    "        y = self.targets[idx]  # (T,1)\n",
    "        return x, y\n",
    "\n",
    "\n",
    "# 2. Define SNN regression model using NeuronovaSim\n",
    "class SNNRegressor(nn.Module):\n",
    "    def __init__(self, input_size, hidden_size, output_size):\n",
    "        super().__init__()\n",
    "        # two-layer SNN: hidden -> output\n",
    "        neurons_per_layer = [hidden_size, output_size]\n",
    "        self.sim = NeuronovaSim(\n",
    "            chip_topoplogy=\"tmp\",\n",
    "            chip_model=\"LIF\",\n",
    "            input_size=input_size,\n",
    "            neuron_number_per_layer=neurons_per_layer,\n",
    "            device=\"cpu\",\n",
    "        )\n",
    "\n",
    "    def forward(self, x):\n",
    "        # x: (batch, time, features)\n",
    "        x_norm = (x - x.min()) / (x.max() - x.min() + 1e-8)\n",
    "        # simulator returns (time, batch, features) tuples: spikes & states\n",
    "        spk0, spk1, spk2, mem0, mem1, mem2, cur0, cur1, cur2 = self.sim.forward(x_norm)\n",
    "        # output spikes spk2: (time, batch, output_size)\n",
    "        spk_out = spk2.permute(1, 0, 2)  # (batch, time, output_size)\n",
    "        # sum over time to get regression output: (batch, output_size)\n",
    "        out = spk_out.sum(dim=1)\n",
    "        return out  # shape (batch, output_size)\n",
    "\n",
    "\n",
    "# 3. Training & evaluation\n",
    "\n",
    "\n",
    "def train(model, loader, num_iter=100, lr=1e-3):\n",
    "    opt = torch.optim.Adam(model.parameters(), lr=lr)\n",
    "    loss_fn = nn.MSELoss()\n",
    "    hist = []\n",
    "    for _ in trange(num_iter):\n",
    "        for x, y in loader:\n",
    "            # x,y: (batch, time, features)\n",
    "            opt.zero_grad()\n",
    "            preds = model(x)\n",
    "            # y_target: final time-step value (batch, features)\n",
    "            y_target = y[:, -1, :]\n",
    "            loss = loss_fn(preds, y_target)\n",
    "            loss.backward()\n",
    "            opt.step()\n",
    "            hist.append(loss.item())\n",
    "    return hist\n",
    "\n",
    "\n",
    "def evaluate(model, loader):\n",
    "    l1_fn = nn.L1Loss()\n",
    "    rels, l1s = [], []\n",
    "    with torch.no_grad():\n",
    "        for x, y in loader:\n",
    "            preds = model(x)\n",
    "            y_target = y[:, -1, :]\n",
    "            l1 = l1_fn(preds, y_target)\n",
    "            rel = torch.mean(\n",
    "                torch.norm(preds - y_target, dim=-1) / torch.norm(y_target, dim=-1)\n",
    "            )\n",
    "            l1s.append(l1.item())\n",
    "            rels.append(rel.item())\n",
    "    return statistics.mean(l1s), statistics.mean(rels)\n",
    "\n",
    "\n",
    "# 4. Run experiment\n",
    "if __name__ == \"__main__\":\n",
    "    # polynomial coefficients\n",
    "    a, b, c = 2.0, -3.0, 1.0\n",
    "    T, N, batch_size = 20, 100, 1\n",
    "    ds = PolyRegressionDataset(T, N, a, b, c)\n",
    "    loader = DataLoader(ds, batch_size=batch_size)\n",
    "\n",
    "    model = SNNRegressor(input_size=1, hidden_size=32, output_size=T)\n",
    "    loss_hist = train(model, loader, num_iter=100)\n",
    "    mean_l1, mean_rel = evaluate(model, loader)\n",
    "    print(f\"Mean L1-loss: {mean_l1:.2e}\")\n",
    "    print(f\"Mean rel. err.: {mean_rel:.2e}\")\n",
    "\n",
    "    # plot one example\n",
    "    x, y = next(iter(loader))\n",
    "    preds = model(x)\n",
    "    plt.plot(preds.squeeze().detach().numpy(), label=\"predicted\")\n",
    "    plt.plot(y[-1, :, 0].numpy(), label=\"true final\")\n",
    "    plt.legend()\n",
    "    plt.show()"
   ]
  },
  {
   "cell_type": "code",
   "execution_count": 14,
   "id": "7f6995af",
   "metadata": {},
   "outputs": [
    {
     "data": {
      "text/plain": [
       "tensor(0., grad_fn=<SqueezeBackward0>)"
      ]
     },
     "execution_count": 14,
     "metadata": {},
     "output_type": "execute_result"
    }
   ],
   "source": [
    "preds.squeeze()"
   ]
  },
  {
   "cell_type": "code",
   "execution_count": null,
   "id": "302c679b",
   "metadata": {},
   "outputs": [],
   "source": []
  }
 ],
 "metadata": {
  "kernelspec": {
   "display_name": "PyTorch",
   "language": "python",
   "name": "python3"
  },
  "language_info": {
   "codemirror_mode": {
    "name": "ipython",
    "version": 3
   },
   "file_extension": ".py",
   "mimetype": "text/x-python",
   "name": "python",
   "nbconvert_exporter": "python",
   "pygments_lexer": "ipython3",
   "version": "3.10.16"
  }
 },
 "nbformat": 4,
 "nbformat_minor": 5
}
